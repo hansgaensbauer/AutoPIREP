{
 "cells": [
  {
   "cell_type": "markdown",
   "id": "1bb7bcc4",
   "metadata": {},
   "source": [
    "# Auto PiReps Data Visualizer\n",
    "This Jupyter-Notebook is for generating graphs from the .csv files from the Raspberry Pi Datalogger for evaluating Auto PiReps.\n",
    "\n",
    "### To use this notebook:\n",
    "1. Change the variable in the next cell to the name and path of the .csv file you want to grpah.\n",
    "2. Click the >> symbol in the toolbar at the top to run all cells."
   ]
  },
  {
   "cell_type": "code",
   "execution_count": null,
   "id": "9f49ab55",
   "metadata": {},
   "outputs": [],
   "source": [
    "csv_file_path = \"Desktop/[Write CSV Filename Here].csv\"\n",
    "\n",
    "#Example: csv_file_path = \"Desktop/data-5-2-2022.csv\""
   ]
  },
  {
   "cell_type": "code",
   "execution_count": 1,
   "id": "4cabbf9e",
   "metadata": {},
   "outputs": [],
   "source": [
    "#import libraries that we need for graphing\n",
    "import matplotlib.pyplot as plt\n",
    "import numpy as np\n",
    "\n",
    "#This line makes the graphs interactive\n",
    "%matplotlib notebook"
   ]
  },
  {
   "cell_type": "markdown",
   "id": "ade271cc",
   "metadata": {},
   "source": [
    "### 1. Read the Data Into Python"
   ]
  },
  {
   "cell_type": "code",
   "execution_count": null,
   "id": "0e5a9020",
   "metadata": {},
   "outputs": [],
   "source": [
    "data_array = np.loadtxt(csv_file_path, delimiter=\",\", skiprows=1)"
   ]
  }
 ],
 "metadata": {
  "kernelspec": {
   "display_name": "Python 3 (ipykernel)",
   "language": "python",
   "name": "python3"
  },
  "language_info": {
   "codemirror_mode": {
    "name": "ipython",
    "version": 3
   },
   "file_extension": ".py",
   "mimetype": "text/x-python",
   "name": "python",
   "nbconvert_exporter": "python",
   "pygments_lexer": "ipython3",
   "version": "3.9.7"
  }
 },
 "nbformat": 4,
 "nbformat_minor": 5
}
